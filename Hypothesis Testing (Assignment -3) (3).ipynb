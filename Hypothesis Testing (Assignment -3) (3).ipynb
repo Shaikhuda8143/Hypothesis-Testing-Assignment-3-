{
 "cells": [
  {
   "cell_type": "markdown",
   "id": "224f743a",
   "metadata": {},
   "source": [
    "### 1. A f&B manager wants to determine whether there is any significant difference in the diameter of the cutlet between two units.A randomly selected sample of cutlets was collected from both units and measured? Analyse the data and draw inferences at 5% significance level. Please state the assumptions and test you carried out to check validity of the assumptions"
   ]
  },
  {
   "cell_type": "markdown",
   "id": "85b48730",
   "metadata": {},
   "source": [
    "## 1.Import necessary Libraries"
   ]
  },
  {
   "cell_type": "code",
   "execution_count": 1,
   "id": "2614b6cc",
   "metadata": {},
   "outputs": [],
   "source": [
    "import pandas as pd\n",
    "import matplotlib.pyplot as plt\n",
    "import numpy as np\n",
    "import seaborn as sns\n",
    "from scipy import stats"
   ]
  },
  {
   "cell_type": "markdown",
   "id": "197a63c1",
   "metadata": {},
   "source": [
    "## 2.Import Data"
   ]
  },
  {
   "cell_type": "code",
   "execution_count": 2,
   "id": "6bc4956d",
   "metadata": {},
   "outputs": [
    {
     "data": {
      "text/html": [
       "<div>\n",
       "<style scoped>\n",
       "    .dataframe tbody tr th:only-of-type {\n",
       "        vertical-align: middle;\n",
       "    }\n",
       "\n",
       "    .dataframe tbody tr th {\n",
       "        vertical-align: top;\n",
       "    }\n",
       "\n",
       "    .dataframe thead th {\n",
       "        text-align: right;\n",
       "    }\n",
       "</style>\n",
       "<table border=\"1\" class=\"dataframe\">\n",
       "  <thead>\n",
       "    <tr style=\"text-align: right;\">\n",
       "      <th></th>\n",
       "      <th>Unit A</th>\n",
       "      <th>Unit B</th>\n",
       "    </tr>\n",
       "  </thead>\n",
       "  <tbody>\n",
       "    <tr>\n",
       "      <th>0</th>\n",
       "      <td>6.8090</td>\n",
       "      <td>6.7703</td>\n",
       "    </tr>\n",
       "    <tr>\n",
       "      <th>1</th>\n",
       "      <td>6.4376</td>\n",
       "      <td>7.5093</td>\n",
       "    </tr>\n",
       "    <tr>\n",
       "      <th>2</th>\n",
       "      <td>6.9157</td>\n",
       "      <td>6.7300</td>\n",
       "    </tr>\n",
       "    <tr>\n",
       "      <th>3</th>\n",
       "      <td>7.3012</td>\n",
       "      <td>6.7878</td>\n",
       "    </tr>\n",
       "    <tr>\n",
       "      <th>4</th>\n",
       "      <td>7.4488</td>\n",
       "      <td>7.1522</td>\n",
       "    </tr>\n",
       "  </tbody>\n",
       "</table>\n",
       "</div>"
      ],
      "text/plain": [
       "   Unit A  Unit B\n",
       "0  6.8090  6.7703\n",
       "1  6.4376  7.5093\n",
       "2  6.9157  6.7300\n",
       "3  7.3012  6.7878\n",
       "4  7.4488  7.1522"
      ]
     },
     "execution_count": 2,
     "metadata": {},
     "output_type": "execute_result"
    }
   ],
   "source": [
    "cutlets_data=pd.read_csv(filepath_or_buffer='Cutlets.csv')\n",
    "cutlets_data.head()"
   ]
  },
  {
   "cell_type": "markdown",
   "id": "205055fd",
   "metadata": {},
   "source": [
    "## Hypothesis Testing\n",
    "**H0 : There is no significant difference in the diameter of cutlet between two units**\n",
    "\n",
    "**H1 : There is a significant differnce in the diameter of cutlet between two units**\n",
    "\n",
    "**LOS : 5%**"
   ]
  },
  {
   "cell_type": "markdown",
   "id": "4f67c6df",
   "metadata": {},
   "source": [
    "## 3.Data Understanding"
   ]
  },
  {
   "cell_type": "markdown",
   "id": "2129d2cc",
   "metadata": {},
   "source": [
    "### Initial Analysis"
   ]
  },
  {
   "cell_type": "code",
   "execution_count": 3,
   "id": "bca30d15",
   "metadata": {},
   "outputs": [
    {
     "data": {
      "text/plain": [
       "Unit A    0\n",
       "Unit B    0\n",
       "dtype: int64"
      ]
     },
     "execution_count": 3,
     "metadata": {},
     "output_type": "execute_result"
    }
   ],
   "source": [
    "cutlets_data.isnull().sum()"
   ]
  },
  {
   "cell_type": "code",
   "execution_count": 4,
   "id": "97e98a65",
   "metadata": {},
   "outputs": [
    {
     "data": {
      "text/plain": [
       "Unit A    float64\n",
       "Unit B    float64\n",
       "dtype: object"
      ]
     },
     "execution_count": 4,
     "metadata": {},
     "output_type": "execute_result"
    }
   ],
   "source": [
    "cutlets_data.dtypes"
   ]
  },
  {
   "cell_type": "code",
   "execution_count": 5,
   "id": "00b7e486",
   "metadata": {},
   "outputs": [
    {
     "data": {
      "text/plain": [
       "0    6.8090\n",
       "1    6.4376\n",
       "2    6.9157\n",
       "3    7.3012\n",
       "4    7.4488\n",
       "Name: Unit A, dtype: float64"
      ]
     },
     "execution_count": 5,
     "metadata": {},
     "output_type": "execute_result"
    }
   ],
   "source": [
    "unit_A=cutlets_data[\"Unit A\"]\n",
    "unit_A.head()"
   ]
  },
  {
   "cell_type": "code",
   "execution_count": 6,
   "id": "cbaf7c12",
   "metadata": {},
   "outputs": [
    {
     "data": {
      "text/plain": [
       "7.01909142857143"
      ]
     },
     "execution_count": 6,
     "metadata": {},
     "output_type": "execute_result"
    }
   ],
   "source": [
    "unit_A.mean()"
   ]
  },
  {
   "cell_type": "code",
   "execution_count": 7,
   "id": "86a01951",
   "metadata": {},
   "outputs": [
    {
     "data": {
      "text/plain": [
       "7"
      ]
     },
     "execution_count": 7,
     "metadata": {},
     "output_type": "execute_result"
    }
   ],
   "source": [
    "round(unit_A.mean())"
   ]
  },
  {
   "cell_type": "code",
   "execution_count": 8,
   "id": "f9678b19",
   "metadata": {},
   "outputs": [
    {
     "data": {
      "text/plain": [
       "0    6.7703\n",
       "1    7.5093\n",
       "2    6.7300\n",
       "3    6.7878\n",
       "4    7.1522\n",
       "Name: Unit B, dtype: float64"
      ]
     },
     "execution_count": 8,
     "metadata": {},
     "output_type": "execute_result"
    }
   ],
   "source": [
    "unit_B=cutlets_data[\"Unit B\"]\n",
    "unit_B.head()"
   ]
  },
  {
   "cell_type": "code",
   "execution_count": 9,
   "id": "e5505150",
   "metadata": {},
   "outputs": [
    {
     "data": {
      "text/plain": [
       "6.964297142857142"
      ]
     },
     "execution_count": 9,
     "metadata": {},
     "output_type": "execute_result"
    }
   ],
   "source": [
    "unit_B.mean()"
   ]
  },
  {
   "cell_type": "code",
   "execution_count": 10,
   "id": "0083a624",
   "metadata": {},
   "outputs": [
    {
     "data": {
      "text/plain": [
       "7"
      ]
     },
     "execution_count": 10,
     "metadata": {},
     "output_type": "execute_result"
    }
   ],
   "source": [
    "round(unit_B.mean())"
   ]
  },
  {
   "cell_type": "markdown",
   "id": "c27f42a6",
   "metadata": {},
   "source": [
    "## Observation :"
   ]
  },
  {
   "cell_type": "markdown",
   "id": "875aa7c0",
   "metadata": {},
   "source": [
    "### As the mean of Unit A and Unit B are equal there is no significant difference between the units"
   ]
  },
  {
   "cell_type": "markdown",
   "id": "2181d53d",
   "metadata": {},
   "source": [
    "## P_Value :"
   ]
  },
  {
   "cell_type": "code",
   "execution_count": 11,
   "id": "ab43d8df",
   "metadata": {},
   "outputs": [
    {
     "data": {
      "text/plain": [
       "(0.7228688704678063, 0.4722394724599501)"
      ]
     },
     "execution_count": 11,
     "metadata": {},
     "output_type": "execute_result"
    }
   ],
   "source": [
    "t_test,p_val=stats.ttest_ind(  a=unit_A ,b=unit_B)\n",
    "t_test,p_val"
   ]
  },
  {
   "cell_type": "markdown",
   "id": "bc98db10",
   "metadata": {},
   "source": [
    "## Conclusion :"
   ]
  },
  {
   "cell_type": "code",
   "execution_count": 12,
   "id": "0aaa5cfa",
   "metadata": {},
   "outputs": [
    {
     "name": "stdout",
     "output_type": "stream",
     "text": [
      "we fail to reject null hypothesis,There is no significant difference in the diameter of cutlet between two units \n"
     ]
    }
   ],
   "source": [
    "if p_val<0.05:\n",
    "    print('We reject null hypothesis,There is a significant differnce in the diameter of cutlet between two units ')\n",
    "else:\n",
    "    print('we fail to reject null hypothesis,There is no significant difference in the diameter of cutlet between two units ')"
   ]
  },
  {
   "cell_type": "markdown",
   "id": "db756c3b",
   "metadata": {},
   "source": [
    "# =========================================================="
   ]
  },
  {
   "cell_type": "markdown",
   "id": "a8c6eba9",
   "metadata": {},
   "source": [
    "## 2. A Hospital wants to detrmine whether there is any differnce in the average Turn Around Time of reports of the laboratories on their preferred list. They collected a random sample and recorded TAT for reports of 4 laboratories, TAT is deffined as samplecollected to report dispatch.Analyze the data and determine whether there is any differnce in average TAT among the different laboratories at 5% significance level"
   ]
  },
  {
   "cell_type": "markdown",
   "id": "7edf5fed",
   "metadata": {},
   "source": [
    "## 1.Import Data"
   ]
  },
  {
   "cell_type": "code",
   "execution_count": 13,
   "id": "a3dc146a",
   "metadata": {},
   "outputs": [
    {
     "data": {
      "text/html": [
       "<div>\n",
       "<style scoped>\n",
       "    .dataframe tbody tr th:only-of-type {\n",
       "        vertical-align: middle;\n",
       "    }\n",
       "\n",
       "    .dataframe tbody tr th {\n",
       "        vertical-align: top;\n",
       "    }\n",
       "\n",
       "    .dataframe thead th {\n",
       "        text-align: right;\n",
       "    }\n",
       "</style>\n",
       "<table border=\"1\" class=\"dataframe\">\n",
       "  <thead>\n",
       "    <tr style=\"text-align: right;\">\n",
       "      <th></th>\n",
       "      <th>Laboratory 1</th>\n",
       "      <th>Laboratory 2</th>\n",
       "      <th>Laboratory 3</th>\n",
       "      <th>Laboratory 4</th>\n",
       "    </tr>\n",
       "  </thead>\n",
       "  <tbody>\n",
       "    <tr>\n",
       "      <th>0</th>\n",
       "      <td>185.35</td>\n",
       "      <td>165.53</td>\n",
       "      <td>176.70</td>\n",
       "      <td>166.13</td>\n",
       "    </tr>\n",
       "    <tr>\n",
       "      <th>1</th>\n",
       "      <td>170.49</td>\n",
       "      <td>185.91</td>\n",
       "      <td>198.45</td>\n",
       "      <td>160.79</td>\n",
       "    </tr>\n",
       "    <tr>\n",
       "      <th>2</th>\n",
       "      <td>192.77</td>\n",
       "      <td>194.92</td>\n",
       "      <td>201.23</td>\n",
       "      <td>185.18</td>\n",
       "    </tr>\n",
       "    <tr>\n",
       "      <th>3</th>\n",
       "      <td>177.33</td>\n",
       "      <td>183.00</td>\n",
       "      <td>199.61</td>\n",
       "      <td>176.42</td>\n",
       "    </tr>\n",
       "    <tr>\n",
       "      <th>4</th>\n",
       "      <td>193.41</td>\n",
       "      <td>169.57</td>\n",
       "      <td>204.63</td>\n",
       "      <td>152.60</td>\n",
       "    </tr>\n",
       "    <tr>\n",
       "      <th>...</th>\n",
       "      <td>...</td>\n",
       "      <td>...</td>\n",
       "      <td>...</td>\n",
       "      <td>...</td>\n",
       "    </tr>\n",
       "    <tr>\n",
       "      <th>115</th>\n",
       "      <td>178.49</td>\n",
       "      <td>170.66</td>\n",
       "      <td>193.80</td>\n",
       "      <td>172.68</td>\n",
       "    </tr>\n",
       "    <tr>\n",
       "      <th>116</th>\n",
       "      <td>176.08</td>\n",
       "      <td>183.98</td>\n",
       "      <td>215.25</td>\n",
       "      <td>177.64</td>\n",
       "    </tr>\n",
       "    <tr>\n",
       "      <th>117</th>\n",
       "      <td>202.48</td>\n",
       "      <td>174.54</td>\n",
       "      <td>203.99</td>\n",
       "      <td>170.27</td>\n",
       "    </tr>\n",
       "    <tr>\n",
       "      <th>118</th>\n",
       "      <td>182.40</td>\n",
       "      <td>197.18</td>\n",
       "      <td>194.52</td>\n",
       "      <td>150.87</td>\n",
       "    </tr>\n",
       "    <tr>\n",
       "      <th>119</th>\n",
       "      <td>182.09</td>\n",
       "      <td>215.17</td>\n",
       "      <td>221.49</td>\n",
       "      <td>162.21</td>\n",
       "    </tr>\n",
       "  </tbody>\n",
       "</table>\n",
       "<p>120 rows × 4 columns</p>\n",
       "</div>"
      ],
      "text/plain": [
       "     Laboratory 1  Laboratory 2  Laboratory 3  Laboratory 4\n",
       "0          185.35        165.53        176.70        166.13\n",
       "1          170.49        185.91        198.45        160.79\n",
       "2          192.77        194.92        201.23        185.18\n",
       "3          177.33        183.00        199.61        176.42\n",
       "4          193.41        169.57        204.63        152.60\n",
       "..            ...           ...           ...           ...\n",
       "115        178.49        170.66        193.80        172.68\n",
       "116        176.08        183.98        215.25        177.64\n",
       "117        202.48        174.54        203.99        170.27\n",
       "118        182.40        197.18        194.52        150.87\n",
       "119        182.09        215.17        221.49        162.21\n",
       "\n",
       "[120 rows x 4 columns]"
      ]
     },
     "execution_count": 13,
     "metadata": {},
     "output_type": "execute_result"
    }
   ],
   "source": [
    "lab_data=pd.read_csv('LabTAT.csv')\n",
    "lab_data"
   ]
  },
  {
   "cell_type": "markdown",
   "id": "f44a7be3",
   "metadata": {},
   "source": [
    "## Hypothesis Testing\n",
    "**H0 : There is no significant difference in average Turn Around Time of reports of different laboratories**\n",
    "\n",
    "**H1 : There is a significant differnce in the average Turn Around Time of differnt laboratories**\n",
    "\n",
    "**LOS : 5%**"
   ]
  },
  {
   "cell_type": "markdown",
   "id": "45e48ece",
   "metadata": {},
   "source": [
    "## 2.Data Understanding"
   ]
  },
  {
   "cell_type": "markdown",
   "id": "88a3ae51",
   "metadata": {},
   "source": [
    "### Data Analysis"
   ]
  },
  {
   "cell_type": "code",
   "execution_count": 14,
   "id": "a9561900",
   "metadata": {},
   "outputs": [
    {
     "data": {
      "text/plain": [
       "Laboratory 1    0\n",
       "Laboratory 2    0\n",
       "Laboratory 3    0\n",
       "Laboratory 4    0\n",
       "dtype: int64"
      ]
     },
     "execution_count": 14,
     "metadata": {},
     "output_type": "execute_result"
    }
   ],
   "source": [
    "lab_data.isnull().sum()"
   ]
  },
  {
   "cell_type": "code",
   "execution_count": 15,
   "id": "e6c27bf8",
   "metadata": {},
   "outputs": [
    {
     "data": {
      "text/plain": [
       "Laboratory 1    float64\n",
       "Laboratory 2    float64\n",
       "Laboratory 3    float64\n",
       "Laboratory 4    float64\n",
       "dtype: object"
      ]
     },
     "execution_count": 15,
     "metadata": {},
     "output_type": "execute_result"
    }
   ],
   "source": [
    "lab_data.dtypes"
   ]
  },
  {
   "cell_type": "code",
   "execution_count": 16,
   "id": "d0b1e438",
   "metadata": {},
   "outputs": [
    {
     "data": {
      "text/plain": [
       "0    185.35\n",
       "1    170.49\n",
       "2    192.77\n",
       "3    177.33\n",
       "4    193.41\n",
       "Name: Laboratory 1, dtype: float64"
      ]
     },
     "execution_count": 16,
     "metadata": {},
     "output_type": "execute_result"
    }
   ],
   "source": [
    "lab_1=lab_data['Laboratory 1'].head()\n",
    "lab_1"
   ]
  },
  {
   "cell_type": "code",
   "execution_count": 17,
   "id": "cf9f504e",
   "metadata": {},
   "outputs": [
    {
     "data": {
      "text/plain": [
       "183.87"
      ]
     },
     "execution_count": 17,
     "metadata": {},
     "output_type": "execute_result"
    }
   ],
   "source": [
    "lab_1.mean()"
   ]
  },
  {
   "cell_type": "code",
   "execution_count": 18,
   "id": "e018a1d1",
   "metadata": {},
   "outputs": [
    {
     "data": {
      "text/plain": [
       "0    165.53\n",
       "1    185.91\n",
       "2    194.92\n",
       "3    183.00\n",
       "4    169.57\n",
       "Name: Laboratory 2, dtype: float64"
      ]
     },
     "execution_count": 18,
     "metadata": {},
     "output_type": "execute_result"
    }
   ],
   "source": [
    "lab_2=lab_data['Laboratory 2'].head()\n",
    "lab_2"
   ]
  },
  {
   "cell_type": "code",
   "execution_count": 19,
   "id": "7c739dc3",
   "metadata": {},
   "outputs": [
    {
     "data": {
      "text/plain": [
       "179.786"
      ]
     },
     "execution_count": 19,
     "metadata": {},
     "output_type": "execute_result"
    }
   ],
   "source": [
    "lab_2.mean()"
   ]
  },
  {
   "cell_type": "code",
   "execution_count": 20,
   "id": "221e480b",
   "metadata": {},
   "outputs": [
    {
     "data": {
      "text/plain": [
       "0    176.70\n",
       "1    198.45\n",
       "2    201.23\n",
       "3    199.61\n",
       "4    204.63\n",
       "Name: Laboratory 3, dtype: float64"
      ]
     },
     "execution_count": 20,
     "metadata": {},
     "output_type": "execute_result"
    }
   ],
   "source": [
    "lab_3=lab_data['Laboratory 3'].head()\n",
    "lab_3"
   ]
  },
  {
   "cell_type": "code",
   "execution_count": 21,
   "id": "02f5746d",
   "metadata": {},
   "outputs": [
    {
     "data": {
      "text/plain": [
       "196.124"
      ]
     },
     "execution_count": 21,
     "metadata": {},
     "output_type": "execute_result"
    }
   ],
   "source": [
    "lab_3.mean()"
   ]
  },
  {
   "cell_type": "code",
   "execution_count": 22,
   "id": "80c61496",
   "metadata": {},
   "outputs": [
    {
     "data": {
      "text/plain": [
       "0    166.13\n",
       "1    160.79\n",
       "2    185.18\n",
       "3    176.42\n",
       "4    152.60\n",
       "Name: Laboratory 4, dtype: float64"
      ]
     },
     "execution_count": 22,
     "metadata": {},
     "output_type": "execute_result"
    }
   ],
   "source": [
    "lab_4=lab_data['Laboratory 4'].head()\n",
    "lab_4"
   ]
  },
  {
   "cell_type": "code",
   "execution_count": 23,
   "id": "a6df6733",
   "metadata": {},
   "outputs": [
    {
     "data": {
      "text/plain": [
       "168.224"
      ]
     },
     "execution_count": 23,
     "metadata": {},
     "output_type": "execute_result"
    }
   ],
   "source": [
    "lab_4.mean()"
   ]
  },
  {
   "cell_type": "markdown",
   "id": "39daa5a0",
   "metadata": {},
   "source": [
    "## Observation:\n",
    "\n",
    "**From the above analysis we can see that mean values of 4 different laboratories are not same**"
   ]
  },
  {
   "cell_type": "markdown",
   "id": "f23db88c",
   "metadata": {},
   "source": [
    "#### ANOVA Test "
   ]
  },
  {
   "cell_type": "code",
   "execution_count": 24,
   "id": "fe5c510b",
   "metadata": {},
   "outputs": [
    {
     "data": {
      "text/plain": [
       "(4.977657221773666, 0.012559049971997725)"
      ]
     },
     "execution_count": 24,
     "metadata": {},
     "output_type": "execute_result"
    }
   ],
   "source": [
    "statsics,pvalue=stats.f_oneway(lab_1,lab_2,lab_3,lab_4)\n",
    "statsics,pvalue"
   ]
  },
  {
   "cell_type": "markdown",
   "id": "b9b86dfa",
   "metadata": {},
   "source": [
    "# Conclusion :"
   ]
  },
  {
   "cell_type": "code",
   "execution_count": 25,
   "id": "a7d89c7f",
   "metadata": {},
   "outputs": [
    {
     "name": "stdout",
     "output_type": "stream",
     "text": [
      "we reject null hypothesis ,there is a significant differnce in the average Turn Around Time of 4 laboratories\n"
     ]
    }
   ],
   "source": [
    "if pvalue<0.05:\n",
    "    print('we reject null hypothesis ,there is a significant differnce in the average Turn Around Time of 4 laboratories')\n",
    "else:\n",
    "    print('We fail to reject null hypothesis, there is no significant differnce in the average Turn Around Time of 4 laboratories')"
   ]
  },
  {
   "cell_type": "markdown",
   "id": "6f374db1",
   "metadata": {},
   "source": [
    "# ============================================================"
   ]
  },
  {
   "cell_type": "markdown",
   "id": "6eebaa31",
   "metadata": {},
   "source": [
    "## 3.Sales of products in four different regions is tabulated for males and females. Find if male-female buyer rations are similar across regions.\n"
   ]
  },
  {
   "cell_type": "markdown",
   "id": "438ea380",
   "metadata": {},
   "source": [
    "## 1.Import necessary libraries"
   ]
  },
  {
   "cell_type": "code",
   "execution_count": 26,
   "id": "d31e8516",
   "metadata": {},
   "outputs": [],
   "source": [
    "import pandas as pd\n",
    "from scipy import stats\n",
    "from scipy.stats import chi2"
   ]
  },
  {
   "cell_type": "markdown",
   "id": "286acbb7",
   "metadata": {},
   "source": [
    "## 2.Import data"
   ]
  },
  {
   "cell_type": "code",
   "execution_count": 27,
   "id": "81ca5e56",
   "metadata": {},
   "outputs": [
    {
     "data": {
      "text/html": [
       "<div>\n",
       "<style scoped>\n",
       "    .dataframe tbody tr th:only-of-type {\n",
       "        vertical-align: middle;\n",
       "    }\n",
       "\n",
       "    .dataframe tbody tr th {\n",
       "        vertical-align: top;\n",
       "    }\n",
       "\n",
       "    .dataframe thead th {\n",
       "        text-align: right;\n",
       "    }\n",
       "</style>\n",
       "<table border=\"1\" class=\"dataframe\">\n",
       "  <thead>\n",
       "    <tr style=\"text-align: right;\">\n",
       "      <th></th>\n",
       "      <th>Observed Values</th>\n",
       "      <th>East</th>\n",
       "      <th>West</th>\n",
       "      <th>North</th>\n",
       "      <th>South</th>\n",
       "    </tr>\n",
       "  </thead>\n",
       "  <tbody>\n",
       "    <tr>\n",
       "      <th>0</th>\n",
       "      <td>Males</td>\n",
       "      <td>50</td>\n",
       "      <td>142</td>\n",
       "      <td>131</td>\n",
       "      <td>70</td>\n",
       "    </tr>\n",
       "    <tr>\n",
       "      <th>1</th>\n",
       "      <td>Females</td>\n",
       "      <td>435</td>\n",
       "      <td>1523</td>\n",
       "      <td>1356</td>\n",
       "      <td>750</td>\n",
       "    </tr>\n",
       "  </tbody>\n",
       "</table>\n",
       "</div>"
      ],
      "text/plain": [
       "  Observed Values  East  West  North  South\n",
       "0           Males    50   142    131     70\n",
       "1         Females   435  1523   1356    750"
      ]
     },
     "execution_count": 27,
     "metadata": {},
     "output_type": "execute_result"
    }
   ],
   "source": [
    "df=pd.read_csv('BuyerRatio.csv')\n",
    "df"
   ]
  },
  {
   "cell_type": "code",
   "execution_count": 28,
   "id": "80a9abf4",
   "metadata": {},
   "outputs": [
    {
     "data": {
      "text/html": [
       "<div>\n",
       "<style scoped>\n",
       "    .dataframe tbody tr th:only-of-type {\n",
       "        vertical-align: middle;\n",
       "    }\n",
       "\n",
       "    .dataframe tbody tr th {\n",
       "        vertical-align: top;\n",
       "    }\n",
       "\n",
       "    .dataframe thead th {\n",
       "        text-align: right;\n",
       "    }\n",
       "</style>\n",
       "<table border=\"1\" class=\"dataframe\">\n",
       "  <thead>\n",
       "    <tr style=\"text-align: right;\">\n",
       "      <th></th>\n",
       "      <th>East</th>\n",
       "      <th>West</th>\n",
       "      <th>North</th>\n",
       "      <th>South</th>\n",
       "    </tr>\n",
       "  </thead>\n",
       "  <tbody>\n",
       "    <tr>\n",
       "      <th>0</th>\n",
       "      <td>50</td>\n",
       "      <td>142</td>\n",
       "      <td>131</td>\n",
       "      <td>70</td>\n",
       "    </tr>\n",
       "    <tr>\n",
       "      <th>1</th>\n",
       "      <td>435</td>\n",
       "      <td>1523</td>\n",
       "      <td>1356</td>\n",
       "      <td>750</td>\n",
       "    </tr>\n",
       "  </tbody>\n",
       "</table>\n",
       "</div>"
      ],
      "text/plain": [
       "   East  West  North  South\n",
       "0    50   142    131     70\n",
       "1   435  1523   1356    750"
      ]
     },
     "execution_count": 28,
     "metadata": {},
     "output_type": "execute_result"
    }
   ],
   "source": [
    "df_table = df.iloc[:,1:5]\n",
    "df_table"
   ]
  },
  {
   "cell_type": "markdown",
   "id": "f81b96d1",
   "metadata": {},
   "source": [
    "## Hypothesis Testing\n",
    "**H0 : There is no significant all proportions are equal**\n",
    "\n",
    "**H1 : There is a significant differnce all proportions are not equal**\n",
    "\n",
    "**LOS : 5%**"
   ]
  },
  {
   "cell_type": "markdown",
   "id": "279d6e13",
   "metadata": {},
   "source": [
    "## 3.Data understanding"
   ]
  },
  {
   "cell_type": "code",
   "execution_count": 29,
   "id": "53c5ce5d",
   "metadata": {},
   "outputs": [
    {
     "data": {
      "text/plain": [
       "array([[  50,  142,  131,   70],\n",
       "       [ 435, 1523, 1356,  750]], dtype=int64)"
      ]
     },
     "execution_count": 29,
     "metadata": {},
     "output_type": "execute_result"
    }
   ],
   "source": [
    "df_table.values"
   ]
  },
  {
   "cell_type": "code",
   "execution_count": 30,
   "id": "0ccdf19c",
   "metadata": {},
   "outputs": [
    {
     "data": {
      "text/plain": [
       "(1.595945538661058,\n",
       " 0.6603094907091882,\n",
       " 3,\n",
       " array([[  42.76531299,  146.81287862,  131.11756787,   72.30424052],\n",
       "        [ 442.23468701, 1518.18712138, 1355.88243213,  747.69575948]]))"
      ]
     },
     "execution_count": 30,
     "metadata": {},
     "output_type": "execute_result"
    }
   ],
   "source": [
    "val = stats.chi2_contingency(df_table)\n",
    "val"
   ]
  },
  {
   "cell_type": "code",
   "execution_count": 31,
   "id": "9ad7449c",
   "metadata": {},
   "outputs": [
    {
     "data": {
      "text/plain": [
       "tuple"
      ]
     },
     "execution_count": 31,
     "metadata": {},
     "output_type": "execute_result"
    }
   ],
   "source": [
    "type(val)"
   ]
  },
  {
   "cell_type": "markdown",
   "id": "4453aaa2",
   "metadata": {},
   "source": [
    "## Degree of freedom"
   ]
  },
  {
   "cell_type": "code",
   "execution_count": 32,
   "id": "8559b054",
   "metadata": {},
   "outputs": [
    {
     "name": "stdout",
     "output_type": "stream",
     "text": [
      "Degree of freedom= 3\n"
     ]
    }
   ],
   "source": [
    "no_of_rows = len(df_table.iloc[0:2,0])\n",
    "no_of_columns = len(df_table.iloc[0,0:4])\n",
    "dof=(no_of_rows-1)*(no_of_columns-1)\n",
    "print('Degree of freedom=',dof)"
   ]
  },
  {
   "cell_type": "markdown",
   "id": "35e4ec90",
   "metadata": {},
   "source": [
    "## Expected value"
   ]
  },
  {
   "cell_type": "code",
   "execution_count": 33,
   "id": "52587804",
   "metadata": {},
   "outputs": [
    {
     "data": {
      "text/plain": [
       "array([[  42.76531299,  146.81287862,  131.11756787,   72.30424052],\n",
       "       [ 442.23468701, 1518.18712138, 1355.88243213,  747.69575948]])"
      ]
     },
     "execution_count": 33,
     "metadata": {},
     "output_type": "execute_result"
    }
   ],
   "source": [
    "Expected_value =val[3]\n",
    "Expected_value"
   ]
  },
  {
   "cell_type": "code",
   "execution_count": 34,
   "id": "02022e5f",
   "metadata": {},
   "outputs": [
    {
     "data": {
      "text/plain": [
       "1.5152956451130446"
      ]
     },
     "execution_count": 34,
     "metadata": {},
     "output_type": "execute_result"
    }
   ],
   "source": [
    "chi_square = sum([(o-e)**2/e for o,e in zip(df_table.values,Expected_value)])\n",
    "chi_square_statistic = chi_square[0]+chi_square[1]\n",
    "chi_square_statistic"
   ]
  },
  {
   "cell_type": "markdown",
   "id": "452ccdd7",
   "metadata": {},
   "source": [
    "## Critical value"
   ]
  },
  {
   "cell_type": "code",
   "execution_count": 35,
   "id": "293986ce",
   "metadata": {},
   "outputs": [
    {
     "data": {
      "text/plain": [
       "7.814727903251179"
      ]
     },
     "execution_count": 35,
     "metadata": {},
     "output_type": "execute_result"
    }
   ],
   "source": [
    "Critical_value = chi2.ppf(0.95,3)\n",
    "Critical_value"
   ]
  },
  {
   "cell_type": "code",
   "execution_count": 36,
   "id": "9225b2d5",
   "metadata": {},
   "outputs": [
    {
     "name": "stdout",
     "output_type": "stream",
     "text": [
      "we fail to reject H0, there is no significant differnce\n"
     ]
    }
   ],
   "source": [
    "if chi_square_statistic >= Critical_value:\n",
    "    print('we reject H0,There is a significant differnce')\n",
    "else:\n",
    "    print('we fail to reject H0, there is no significant differnce')"
   ]
  },
  {
   "cell_type": "code",
   "execution_count": 37,
   "id": "864c29c5",
   "metadata": {},
   "outputs": [
    {
     "data": {
      "text/plain": [
       "0.6787446296467897"
      ]
     },
     "execution_count": 37,
     "metadata": {},
     "output_type": "execute_result"
    }
   ],
   "source": [
    "p_value =1-chi2.cdf(chi_square_statistic,3)\n",
    "p_value"
   ]
  },
  {
   "cell_type": "code",
   "execution_count": 38,
   "id": "518df0d0",
   "metadata": {},
   "outputs": [
    {
     "name": "stdout",
     "output_type": "stream",
     "text": [
      "we fail to reject H0, there is no significant differnce\n"
     ]
    }
   ],
   "source": [
    "if p_value<0.05:\n",
    "    print('we reject H0,There is a significant differnce')\n",
    "else:\n",
    "    print('we fail to reject H0, there is no significant differnce')"
   ]
  },
  {
   "cell_type": "markdown",
   "id": "2a4fa856",
   "metadata": {},
   "source": [
    "## ====================================================================="
   ]
  },
  {
   "cell_type": "markdown",
   "id": "8717fc2f",
   "metadata": {},
   "source": [
    "## 4.TeleCall uses 4 centers around the globe to process customer order forms. They audit a certain % of the customer order forms. Any error in order form renders it defective and has to be reworked before processing. The manager wants to check whether the defective %  varies by centre. Please analyze the data at 5% significance level and help the manager draw appropriate inferences\n"
   ]
  },
  {
   "cell_type": "markdown",
   "id": "b17208dc",
   "metadata": {},
   "source": [
    "## 1.Import necessary libraries"
   ]
  },
  {
   "cell_type": "code",
   "execution_count": 51,
   "id": "ba09beda",
   "metadata": {},
   "outputs": [],
   "source": [
    "import pandas as pd\n",
    "import numpy as np\n",
    "from scipy import stats\n",
    "from scipy.stats import norm\n",
    "from scipy.stats import  chi2_contingency"
   ]
  },
  {
   "cell_type": "markdown",
   "id": "499fbeb6",
   "metadata": {},
   "source": [
    "## 2.Import data"
   ]
  },
  {
   "cell_type": "code",
   "execution_count": 40,
   "id": "36403d49",
   "metadata": {},
   "outputs": [
    {
     "data": {
      "text/html": [
       "<div>\n",
       "<style scoped>\n",
       "    .dataframe tbody tr th:only-of-type {\n",
       "        vertical-align: middle;\n",
       "    }\n",
       "\n",
       "    .dataframe tbody tr th {\n",
       "        vertical-align: top;\n",
       "    }\n",
       "\n",
       "    .dataframe thead th {\n",
       "        text-align: right;\n",
       "    }\n",
       "</style>\n",
       "<table border=\"1\" class=\"dataframe\">\n",
       "  <thead>\n",
       "    <tr style=\"text-align: right;\">\n",
       "      <th></th>\n",
       "      <th>Phillippines</th>\n",
       "      <th>Indonesia</th>\n",
       "      <th>Malta</th>\n",
       "      <th>India</th>\n",
       "    </tr>\n",
       "  </thead>\n",
       "  <tbody>\n",
       "    <tr>\n",
       "      <th>0</th>\n",
       "      <td>Error Free</td>\n",
       "      <td>Error Free</td>\n",
       "      <td>Defective</td>\n",
       "      <td>Error Free</td>\n",
       "    </tr>\n",
       "    <tr>\n",
       "      <th>1</th>\n",
       "      <td>Error Free</td>\n",
       "      <td>Error Free</td>\n",
       "      <td>Error Free</td>\n",
       "      <td>Defective</td>\n",
       "    </tr>\n",
       "    <tr>\n",
       "      <th>2</th>\n",
       "      <td>Error Free</td>\n",
       "      <td>Defective</td>\n",
       "      <td>Defective</td>\n",
       "      <td>Error Free</td>\n",
       "    </tr>\n",
       "    <tr>\n",
       "      <th>3</th>\n",
       "      <td>Error Free</td>\n",
       "      <td>Error Free</td>\n",
       "      <td>Error Free</td>\n",
       "      <td>Error Free</td>\n",
       "    </tr>\n",
       "    <tr>\n",
       "      <th>4</th>\n",
       "      <td>Error Free</td>\n",
       "      <td>Error Free</td>\n",
       "      <td>Defective</td>\n",
       "      <td>Error Free</td>\n",
       "    </tr>\n",
       "    <tr>\n",
       "      <th>...</th>\n",
       "      <td>...</td>\n",
       "      <td>...</td>\n",
       "      <td>...</td>\n",
       "      <td>...</td>\n",
       "    </tr>\n",
       "    <tr>\n",
       "      <th>295</th>\n",
       "      <td>Error Free</td>\n",
       "      <td>Error Free</td>\n",
       "      <td>Error Free</td>\n",
       "      <td>Error Free</td>\n",
       "    </tr>\n",
       "    <tr>\n",
       "      <th>296</th>\n",
       "      <td>Error Free</td>\n",
       "      <td>Error Free</td>\n",
       "      <td>Error Free</td>\n",
       "      <td>Error Free</td>\n",
       "    </tr>\n",
       "    <tr>\n",
       "      <th>297</th>\n",
       "      <td>Error Free</td>\n",
       "      <td>Error Free</td>\n",
       "      <td>Defective</td>\n",
       "      <td>Error Free</td>\n",
       "    </tr>\n",
       "    <tr>\n",
       "      <th>298</th>\n",
       "      <td>Error Free</td>\n",
       "      <td>Error Free</td>\n",
       "      <td>Error Free</td>\n",
       "      <td>Error Free</td>\n",
       "    </tr>\n",
       "    <tr>\n",
       "      <th>299</th>\n",
       "      <td>Error Free</td>\n",
       "      <td>Defective</td>\n",
       "      <td>Defective</td>\n",
       "      <td>Error Free</td>\n",
       "    </tr>\n",
       "  </tbody>\n",
       "</table>\n",
       "<p>300 rows × 4 columns</p>\n",
       "</div>"
      ],
      "text/plain": [
       "    Phillippines   Indonesia       Malta       India\n",
       "0     Error Free  Error Free   Defective  Error Free\n",
       "1     Error Free  Error Free  Error Free   Defective\n",
       "2     Error Free   Defective   Defective  Error Free\n",
       "3     Error Free  Error Free  Error Free  Error Free\n",
       "4     Error Free  Error Free   Defective  Error Free\n",
       "..           ...         ...         ...         ...\n",
       "295   Error Free  Error Free  Error Free  Error Free\n",
       "296   Error Free  Error Free  Error Free  Error Free\n",
       "297   Error Free  Error Free   Defective  Error Free\n",
       "298   Error Free  Error Free  Error Free  Error Free\n",
       "299   Error Free   Defective   Defective  Error Free\n",
       "\n",
       "[300 rows x 4 columns]"
      ]
     },
     "execution_count": 40,
     "metadata": {},
     "output_type": "execute_result"
    }
   ],
   "source": [
    "data=pd.read_csv('Costomer+OrderForm.csv')\n",
    "data"
   ]
  },
  {
   "cell_type": "markdown",
   "id": "57d307d7",
   "metadata": {},
   "source": [
    "## Hypothesis Testing\n",
    "**H0 : defective % varies by center**\n",
    "\n",
    "**H1 : Defectives % doesn't varies by center**\n",
    "    \n",
    "**LOS : 5%**"
   ]
  },
  {
   "cell_type": "markdown",
   "id": "cb028708",
   "metadata": {},
   "source": [
    "## 3. Data Understanding & Data Analysis"
   ]
  },
  {
   "cell_type": "code",
   "execution_count": 41,
   "id": "4927f752",
   "metadata": {},
   "outputs": [
    {
     "data": {
      "text/plain": [
       "Error Free    271\n",
       "Defective      29\n",
       "Name: Phillippines, dtype: int64"
      ]
     },
     "execution_count": 41,
     "metadata": {},
     "output_type": "execute_result"
    }
   ],
   "source": [
    "data.Phillippines.value_counts()\n"
   ]
  },
  {
   "cell_type": "code",
   "execution_count": 42,
   "id": "fe659017",
   "metadata": {},
   "outputs": [
    {
     "data": {
      "text/plain": [
       "Error Free    267\n",
       "Defective      33\n",
       "Name: Indonesia, dtype: int64"
      ]
     },
     "execution_count": 42,
     "metadata": {},
     "output_type": "execute_result"
    }
   ],
   "source": [
    "data.Indonesia.value_counts()"
   ]
  },
  {
   "cell_type": "code",
   "execution_count": 43,
   "id": "4ed683b3",
   "metadata": {},
   "outputs": [
    {
     "data": {
      "text/plain": [
       "Error Free    269\n",
       "Defective      31\n",
       "Name: Malta, dtype: int64"
      ]
     },
     "execution_count": 43,
     "metadata": {},
     "output_type": "execute_result"
    }
   ],
   "source": [
    "data.Malta.value_counts()"
   ]
  },
  {
   "cell_type": "code",
   "execution_count": 44,
   "id": "355955a1",
   "metadata": {},
   "outputs": [
    {
     "data": {
      "text/plain": [
       "Error Free    280\n",
       "Defective      20\n",
       "Name: India, dtype: int64"
      ]
     },
     "execution_count": 44,
     "metadata": {},
     "output_type": "execute_result"
    }
   ],
   "source": [
    "data.India.value_counts()"
   ]
  },
  {
   "cell_type": "markdown",
   "id": "34532624",
   "metadata": {},
   "source": [
    "## Contingency table"
   ]
  },
  {
   "cell_type": "code",
   "execution_count": 48,
   "id": "454a3be0",
   "metadata": {},
   "outputs": [
    {
     "data": {
      "text/plain": [
       "array([[271, 267, 269, 280],\n",
       "       [ 29,  33,  31,  20]])"
      ]
     },
     "execution_count": 48,
     "metadata": {},
     "output_type": "execute_result"
    }
   ],
   "source": [
    "obs = np.array([[271,267,269,280],[29,33,31,20]])\n",
    "obs"
   ]
  },
  {
   "cell_type": "code",
   "execution_count": 56,
   "id": "9c21f2f3",
   "metadata": {},
   "outputs": [
    {
     "name": "stdout",
     "output_type": "stream",
     "text": [
      "3.858960685820355 0.2771020991233135 3 [[271.75 271.75 271.75 271.75]\n",
      " [ 28.25  28.25  28.25  28.25]]\n"
     ]
    }
   ],
   "source": [
    "chi2_stats_value,p_value,df,expected_observatoin= chi2_contingency(obs)\n",
    "print(chi2_stats_value,p_value,df,expected_observatoin)"
   ]
  },
  {
   "cell_type": "markdown",
   "id": "f76a8529",
   "metadata": {},
   "source": [
    "## Conclusion:"
   ]
  },
  {
   "cell_type": "code",
   "execution_count": 58,
   "id": "2a91b161",
   "metadata": {},
   "outputs": [
    {
     "name": "stdout",
     "output_type": "stream",
     "text": [
      "Defective % varies by center\n"
     ]
    }
   ],
   "source": [
    "if p_value >0.05:\n",
    "    print('Defective % varies by center')\n",
    "else:\n",
    "    print(\"Defective % doesn't vary by center\")"
   ]
  },
  {
   "cell_type": "code",
   "execution_count": null,
   "id": "38836ee6",
   "metadata": {},
   "outputs": [],
   "source": []
  }
 ],
 "metadata": {
  "kernelspec": {
   "display_name": "Python 3 (ipykernel)",
   "language": "python",
   "name": "python3"
  },
  "language_info": {
   "codemirror_mode": {
    "name": "ipython",
    "version": 3
   },
   "file_extension": ".py",
   "mimetype": "text/x-python",
   "name": "python",
   "nbconvert_exporter": "python",
   "pygments_lexer": "ipython3",
   "version": "3.9.7"
  }
 },
 "nbformat": 4,
 "nbformat_minor": 5
}
